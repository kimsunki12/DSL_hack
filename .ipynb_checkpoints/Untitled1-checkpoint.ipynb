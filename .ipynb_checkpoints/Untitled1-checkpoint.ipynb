{
 "cells": [
  {
   "cell_type": "code",
   "execution_count": null,
   "id": "7a642aef-f21c-4f9c-8074-19eddf0d5a4a",
   "metadata": {},
   "outputs": [],
   "source": [
    "from fastapi import FastAPI\n",
    "from langchain_openai import ChatOpenAI\n",
    "from langchain.prompts import ChatPromptTemplate\n",
    "from langserve import add_routes\n",
    "import uvicorn\n",
    "\n",
    "# FastAPI 앱 초기화\n",
    "app = FastAPI()\n",
    "\n",
    "# OpenAI 모델 설정\n",
    "openai_model = ChatOpenAI(\n",
    "    model=\"gpt-4o-mini\",\n",
    "    temperature=1.2\n",
    ")\n",
    "\n",
    "# 프롬프트 템플릿 생성\n",
    "prompt = ChatPromptTemplate.from_template(\"{topic}에 관해 노랫말을 써줘.\")\n",
    "\n",
    "# 모델과 프롬프트를 체인으로 묶기\n",
    "chain = prompt | openai_model\n",
    "\n",
    "# FastAPI 경로 추가\n",
    "add_routes(app, chain, path=\"/lyrics\")\n",
    "\n",
    "# FastAPI 실행\n",
    "if __name__ == \"__main__\":\n",
    "    uvicorn.run(app, host=\"localhost\", port=8000)\n"
   ]
  }
 ],
 "metadata": {
  "kernelspec": {
   "display_name": "Python 3 (ipykernel)",
   "language": "python",
   "name": "python3"
  },
  "language_info": {
   "codemirror_mode": {
    "name": "ipython",
    "version": 3
   },
   "file_extension": ".py",
   "mimetype": "text/x-python",
   "name": "python",
   "nbconvert_exporter": "python",
   "pygments_lexer": "ipython3",
   "version": "3.12.4"
  }
 },
 "nbformat": 4,
 "nbformat_minor": 5
}
